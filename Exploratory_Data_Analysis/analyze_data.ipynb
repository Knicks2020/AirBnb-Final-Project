{
 "cells": [
  {
   "cell_type": "markdown",
   "metadata": {},
   "source": [
    "Purpose: Analyze CSV data to create final version"
   ]
  },
  {
   "cell_type": "code",
   "execution_count": 2,
   "metadata": {},
   "outputs": [],
   "source": [
    "import pandas as pd\n",
    "pd.set_option('display.max_columns', None)"
   ]
  },
  {
   "cell_type": "code",
   "execution_count": 3,
   "metadata": {},
   "outputs": [
    {
     "name": "stdout",
     "output_type": "stream",
     "text": [
      "There are 4726 rows.\n",
      "Tampa        2960\n",
      "Orlando      1420\n",
      "Kissimmee     340\n",
      "Name: airbnb_city, dtype: int64\n"
     ]
    }
   ],
   "source": [
    "# Test CSV file\n",
    "properties_df = pd.read_csv(\"csv/listings_all.csv\")\n",
    "print(f\"There are {len(properties_df)} rows.\")\n",
    "print(properties_df[\"airbnb_city\"].value_counts())"
   ]
  },
  {
   "cell_type": "code",
   "execution_count": 4,
   "metadata": {},
   "outputs": [
    {
     "name": "stdout",
     "output_type": "stream",
     "text": [
      "<class 'pandas.core.frame.DataFrame'>\n",
      "RangeIndex: 4726 entries, 0 to 4725\n",
      "Data columns (total 40 columns):\n",
      " #   Column                  Non-Null Count  Dtype  \n",
      "---  ------                  --------------  -----  \n",
      " 0   id                      4720 non-null   float64\n",
      " 1   property_id             4720 non-null   float64\n",
      " 2   source                  4720 non-null   object \n",
      " 3   status                  4726 non-null   object \n",
      " 4   night_priceـnative      4720 non-null   float64\n",
      " 5   night_price             4720 non-null   float64\n",
      " 6   weekly_price            4720 non-null   float64\n",
      " 7   monthly_price           4720 non-null   float64\n",
      " 8   cleaning_fee_native     4232 non-null   float64\n",
      " 9   num_of_baths            4720 non-null   float64\n",
      " 10  num_of_rooms            4717 non-null   float64\n",
      " 11  occupancy               4720 non-null   float64\n",
      " 12  nights_booked           4720 non-null   float64\n",
      " 13  rental_income           4720 non-null   float64\n",
      " 14  airbnb_neighborhood_id  4720 non-null   float64\n",
      " 15  name                    4676 non-null   object \n",
      " 16  address                 4720 non-null   object \n",
      " 17  airbnb_neighborhood     0 non-null      float64\n",
      " 18  airbnb_city             4720 non-null   object \n",
      " 19  state                   4720 non-null   object \n",
      " 20  capacity_of_people      4720 non-null   float64\n",
      " 21  zip                     4706 non-null   float64\n",
      " 22  property_type           4720 non-null   object \n",
      " 23  room_type               4720 non-null   object \n",
      " 24  room_type_category      4720 non-null   object \n",
      " 25  amenities               0 non-null      float64\n",
      " 26  reviews_count           4720 non-null   float64\n",
      " 27  start_rating            4718 non-null   float64\n",
      " 28  reviews                 0 non-null      float64\n",
      " 29  created_at              4720 non-null   object \n",
      " 30  updated_at              4720 non-null   object \n",
      " 31  last_seen               4720 non-null   object \n",
      " 32  user_id                 4719 non-null   float64\n",
      " 33  num_of_beds             4715 non-null   float64\n",
      " 34  lat                     4720 non-null   float64\n",
      " 35  lon                     4720 non-null   float64\n",
      " 36  image                   4720 non-null   object \n",
      " 37  url                     0 non-null      float64\n",
      " 38  star_rating             4718 non-null   float64\n",
      " 39  content                 6 non-null      object \n",
      "dtypes: float64(26), object(14)\n",
      "memory usage: 1.4+ MB\n"
     ]
    }
   ],
   "source": [
    "properties_df.info()"
   ]
  },
  {
   "cell_type": "code",
   "execution_count": 5,
   "metadata": {},
   "outputs": [
    {
     "data": {
      "text/plain": [
       "Index(['id', 'property_id', 'source', 'status', 'night_priceـnative',\n",
       "       'night_price', 'weekly_price', 'monthly_price', 'cleaning_fee_native',\n",
       "       'num_of_baths', 'num_of_rooms', 'occupancy', 'nights_booked',\n",
       "       'rental_income', 'airbnb_neighborhood_id', 'name', 'address',\n",
       "       'airbnb_neighborhood', 'airbnb_city', 'state', 'capacity_of_people',\n",
       "       'zip', 'property_type', 'room_type', 'room_type_category', 'amenities',\n",
       "       'reviews_count', 'start_rating', 'reviews', 'created_at', 'updated_at',\n",
       "       'last_seen', 'user_id', 'num_of_beds', 'lat', 'lon', 'image', 'url',\n",
       "       'star_rating', 'content'],\n",
       "      dtype='object')"
      ]
     },
     "execution_count": 5,
     "metadata": {},
     "output_type": "execute_result"
    }
   ],
   "source": [
    "properties_df.columns"
   ]
  },
  {
   "cell_type": "markdown",
   "metadata": {},
   "source": [
    "#### Obvious columns that need to be dropped are:\n",
    "source, updated_at, last_seen, user_id, property_id, image, url, content\n",
    "Can't see the rest of the columns until we delete these."
   ]
  },
  {
   "cell_type": "code",
   "execution_count": 6,
   "metadata": {},
   "outputs": [
    {
     "data": {
      "text/html": [
       "<div>\n",
       "<style scoped>\n",
       "    .dataframe tbody tr th:only-of-type {\n",
       "        vertical-align: middle;\n",
       "    }\n",
       "\n",
       "    .dataframe tbody tr th {\n",
       "        vertical-align: top;\n",
       "    }\n",
       "\n",
       "    .dataframe thead th {\n",
       "        text-align: right;\n",
       "    }\n",
       "</style>\n",
       "<table border=\"1\" class=\"dataframe\">\n",
       "  <thead>\n",
       "    <tr style=\"text-align: right;\">\n",
       "      <th></th>\n",
       "      <th>id</th>\n",
       "      <th>status</th>\n",
       "      <th>night_priceـnative</th>\n",
       "      <th>night_price</th>\n",
       "      <th>weekly_price</th>\n",
       "      <th>monthly_price</th>\n",
       "      <th>cleaning_fee_native</th>\n",
       "      <th>num_of_baths</th>\n",
       "      <th>num_of_rooms</th>\n",
       "      <th>occupancy</th>\n",
       "      <th>nights_booked</th>\n",
       "      <th>rental_income</th>\n",
       "      <th>airbnb_neighborhood_id</th>\n",
       "      <th>airbnb_city</th>\n",
       "      <th>capacity_of_people</th>\n",
       "      <th>zip</th>\n",
       "      <th>property_type</th>\n",
       "      <th>room_type</th>\n",
       "      <th>room_type_category</th>\n",
       "      <th>amenities</th>\n",
       "      <th>reviews_count</th>\n",
       "      <th>start_rating</th>\n",
       "      <th>reviews</th>\n",
       "      <th>num_of_beds</th>\n",
       "      <th>lat</th>\n",
       "      <th>lon</th>\n",
       "      <th>star_rating</th>\n",
       "    </tr>\n",
       "  </thead>\n",
       "  <tbody>\n",
       "    <tr>\n",
       "      <th>0</th>\n",
       "      <td>33453937.0</td>\n",
       "      <td>ACTIVE</td>\n",
       "      <td>110.0</td>\n",
       "      <td>108.0</td>\n",
       "      <td>0.0</td>\n",
       "      <td>0.0</td>\n",
       "      <td>110.0</td>\n",
       "      <td>2.0</td>\n",
       "      <td>2.0</td>\n",
       "      <td>48.0</td>\n",
       "      <td>177.0</td>\n",
       "      <td>1593.0</td>\n",
       "      <td>268906.0</td>\n",
       "      <td>Orlando</td>\n",
       "      <td>4.0</td>\n",
       "      <td>32822.0</td>\n",
       "      <td>Apartment</td>\n",
       "      <td>Entire home/apt</td>\n",
       "      <td>entire_home</td>\n",
       "      <td>NaN</td>\n",
       "      <td>78.0</td>\n",
       "      <td>5.0</td>\n",
       "      <td>NaN</td>\n",
       "      <td>2.0</td>\n",
       "      <td>28.5049</td>\n",
       "      <td>-81.2989</td>\n",
       "      <td>5.0</td>\n",
       "    </tr>\n",
       "    <tr>\n",
       "      <th>1</th>\n",
       "      <td>33454729.0</td>\n",
       "      <td>ACTIVE</td>\n",
       "      <td>237.0</td>\n",
       "      <td>434.0</td>\n",
       "      <td>0.0</td>\n",
       "      <td>0.0</td>\n",
       "      <td>185.0</td>\n",
       "      <td>4.0</td>\n",
       "      <td>5.0</td>\n",
       "      <td>76.0</td>\n",
       "      <td>279.0</td>\n",
       "      <td>10091.0</td>\n",
       "      <td>268914.0</td>\n",
       "      <td>Orlando</td>\n",
       "      <td>16.0</td>\n",
       "      <td>32805.0</td>\n",
       "      <td>House</td>\n",
       "      <td>Entire home/apt</td>\n",
       "      <td>entire_home</td>\n",
       "      <td>NaN</td>\n",
       "      <td>136.0</td>\n",
       "      <td>5.0</td>\n",
       "      <td>NaN</td>\n",
       "      <td>8.0</td>\n",
       "      <td>28.5216</td>\n",
       "      <td>-81.4037</td>\n",
       "      <td>5.0</td>\n",
       "    </tr>\n",
       "    <tr>\n",
       "      <th>2</th>\n",
       "      <td>33453571.0</td>\n",
       "      <td>ACTIVE</td>\n",
       "      <td>345.0</td>\n",
       "      <td>341.0</td>\n",
       "      <td>0.0</td>\n",
       "      <td>0.0</td>\n",
       "      <td>125.0</td>\n",
       "      <td>2.0</td>\n",
       "      <td>2.0</td>\n",
       "      <td>46.0</td>\n",
       "      <td>167.0</td>\n",
       "      <td>4746.0</td>\n",
       "      <td>268881.0</td>\n",
       "      <td>Orlando</td>\n",
       "      <td>5.0</td>\n",
       "      <td>32789.0</td>\n",
       "      <td>Condominium</td>\n",
       "      <td>Entire home/apt</td>\n",
       "      <td>entire_home</td>\n",
       "      <td>NaN</td>\n",
       "      <td>58.0</td>\n",
       "      <td>5.0</td>\n",
       "      <td>NaN</td>\n",
       "      <td>2.0</td>\n",
       "      <td>28.5916</td>\n",
       "      <td>-81.3521</td>\n",
       "      <td>5.0</td>\n",
       "    </tr>\n",
       "    <tr>\n",
       "      <th>3</th>\n",
       "      <td>33460647.0</td>\n",
       "      <td>ACTIVE</td>\n",
       "      <td>175.0</td>\n",
       "      <td>171.0</td>\n",
       "      <td>0.0</td>\n",
       "      <td>0.0</td>\n",
       "      <td>125.0</td>\n",
       "      <td>2.0</td>\n",
       "      <td>3.0</td>\n",
       "      <td>52.0</td>\n",
       "      <td>191.0</td>\n",
       "      <td>2722.0</td>\n",
       "      <td>269050.0</td>\n",
       "      <td>Orlando</td>\n",
       "      <td>6.0</td>\n",
       "      <td>32804.0</td>\n",
       "      <td>House</td>\n",
       "      <td>Entire home/apt</td>\n",
       "      <td>entire_home</td>\n",
       "      <td>NaN</td>\n",
       "      <td>6.0</td>\n",
       "      <td>5.0</td>\n",
       "      <td>NaN</td>\n",
       "      <td>3.0</td>\n",
       "      <td>28.5683</td>\n",
       "      <td>-81.3854</td>\n",
       "      <td>5.0</td>\n",
       "    </tr>\n",
       "    <tr>\n",
       "      <th>4</th>\n",
       "      <td>33456754.0</td>\n",
       "      <td>ACTIVE</td>\n",
       "      <td>62.0</td>\n",
       "      <td>63.0</td>\n",
       "      <td>300.0</td>\n",
       "      <td>950.0</td>\n",
       "      <td>30.0</td>\n",
       "      <td>1.0</td>\n",
       "      <td>1.0</td>\n",
       "      <td>94.0</td>\n",
       "      <td>342.0</td>\n",
       "      <td>1796.0</td>\n",
       "      <td>268987.0</td>\n",
       "      <td>Orlando</td>\n",
       "      <td>2.0</td>\n",
       "      <td>32819.0</td>\n",
       "      <td>Condominium</td>\n",
       "      <td>Entire home/apt</td>\n",
       "      <td>entire_home</td>\n",
       "      <td>NaN</td>\n",
       "      <td>109.0</td>\n",
       "      <td>5.0</td>\n",
       "      <td>NaN</td>\n",
       "      <td>1.0</td>\n",
       "      <td>28.4561</td>\n",
       "      <td>-81.4700</td>\n",
       "      <td>5.0</td>\n",
       "    </tr>\n",
       "  </tbody>\n",
       "</table>\n",
       "</div>"
      ],
      "text/plain": [
       "           id  status  night_priceـnative  night_price  weekly_price  \\\n",
       "0  33453937.0  ACTIVE               110.0        108.0           0.0   \n",
       "1  33454729.0  ACTIVE               237.0        434.0           0.0   \n",
       "2  33453571.0  ACTIVE               345.0        341.0           0.0   \n",
       "3  33460647.0  ACTIVE               175.0        171.0           0.0   \n",
       "4  33456754.0  ACTIVE                62.0         63.0         300.0   \n",
       "\n",
       "   monthly_price  cleaning_fee_native  num_of_baths  num_of_rooms  occupancy  \\\n",
       "0            0.0                110.0           2.0           2.0       48.0   \n",
       "1            0.0                185.0           4.0           5.0       76.0   \n",
       "2            0.0                125.0           2.0           2.0       46.0   \n",
       "3            0.0                125.0           2.0           3.0       52.0   \n",
       "4          950.0                 30.0           1.0           1.0       94.0   \n",
       "\n",
       "   nights_booked  rental_income  airbnb_neighborhood_id airbnb_city  \\\n",
       "0          177.0         1593.0                268906.0     Orlando   \n",
       "1          279.0        10091.0                268914.0     Orlando   \n",
       "2          167.0         4746.0                268881.0     Orlando   \n",
       "3          191.0         2722.0                269050.0     Orlando   \n",
       "4          342.0         1796.0                268987.0     Orlando   \n",
       "\n",
       "   capacity_of_people      zip property_type        room_type  \\\n",
       "0                 4.0  32822.0     Apartment  Entire home/apt   \n",
       "1                16.0  32805.0         House  Entire home/apt   \n",
       "2                 5.0  32789.0   Condominium  Entire home/apt   \n",
       "3                 6.0  32804.0         House  Entire home/apt   \n",
       "4                 2.0  32819.0   Condominium  Entire home/apt   \n",
       "\n",
       "  room_type_category  amenities  reviews_count  start_rating  reviews  \\\n",
       "0        entire_home        NaN           78.0           5.0      NaN   \n",
       "1        entire_home        NaN          136.0           5.0      NaN   \n",
       "2        entire_home        NaN           58.0           5.0      NaN   \n",
       "3        entire_home        NaN            6.0           5.0      NaN   \n",
       "4        entire_home        NaN          109.0           5.0      NaN   \n",
       "\n",
       "   num_of_beds      lat      lon  star_rating  \n",
       "0          2.0  28.5049 -81.2989          5.0  \n",
       "1          8.0  28.5216 -81.4037          5.0  \n",
       "2          2.0  28.5916 -81.3521          5.0  \n",
       "3          3.0  28.5683 -81.3854          5.0  \n",
       "4          1.0  28.4561 -81.4700          5.0  "
      ]
     },
     "execution_count": 6,
     "metadata": {},
     "output_type": "execute_result"
    }
   ],
   "source": [
    "# Dropping verified, non-beneficial columns from dataset\n",
    "properties_df = properties_df.drop(\n",
    "    columns=[\"source\", \"updated_at\", \"last_seen\", \"user_id\", \"property_id\", \"name\",\n",
    "    \"image\", \"url\", \"content\", \"created_at\", \"address\", \"airbnb_neighborhood\", \"state\"\n",
    "    ])\n",
    "properties_df.head()"
   ]
  },
  {
   "cell_type": "code",
   "execution_count": 7,
   "metadata": {},
   "outputs": [
    {
     "name": "stdout",
     "output_type": "stream",
     "text": [
      "<class 'pandas.core.frame.DataFrame'>\n",
      "RangeIndex: 4726 entries, 0 to 4725\n",
      "Data columns (total 27 columns):\n",
      " #   Column                  Non-Null Count  Dtype  \n",
      "---  ------                  --------------  -----  \n",
      " 0   id                      4720 non-null   float64\n",
      " 1   status                  4726 non-null   object \n",
      " 2   night_priceـnative      4720 non-null   float64\n",
      " 3   night_price             4720 non-null   float64\n",
      " 4   weekly_price            4720 non-null   float64\n",
      " 5   monthly_price           4720 non-null   float64\n",
      " 6   cleaning_fee_native     4232 non-null   float64\n",
      " 7   num_of_baths            4720 non-null   float64\n",
      " 8   num_of_rooms            4717 non-null   float64\n",
      " 9   occupancy               4720 non-null   float64\n",
      " 10  nights_booked           4720 non-null   float64\n",
      " 11  rental_income           4720 non-null   float64\n",
      " 12  airbnb_neighborhood_id  4720 non-null   float64\n",
      " 13  airbnb_city             4720 non-null   object \n",
      " 14  capacity_of_people      4720 non-null   float64\n",
      " 15  zip                     4706 non-null   float64\n",
      " 16  property_type           4720 non-null   object \n",
      " 17  room_type               4720 non-null   object \n",
      " 18  room_type_category      4720 non-null   object \n",
      " 19  amenities               0 non-null      float64\n",
      " 20  reviews_count           4720 non-null   float64\n",
      " 21  start_rating            4718 non-null   float64\n",
      " 22  reviews                 0 non-null      float64\n",
      " 23  num_of_beds             4715 non-null   float64\n",
      " 24  lat                     4720 non-null   float64\n",
      " 25  lon                     4720 non-null   float64\n",
      " 26  star_rating             4718 non-null   float64\n",
      "dtypes: float64(22), object(5)\n",
      "memory usage: 997.0+ KB\n"
     ]
    }
   ],
   "source": [
    "properties_df.info()"
   ]
  },
  {
   "cell_type": "code",
   "execution_count": 8,
   "metadata": {},
   "outputs": [
    {
     "name": "stdout",
     "output_type": "stream",
     "text": [
      "There are 4726 rows in the properties_df DataFrame.\n",
      "The id field has 4720 different types of values.\n",
      "There are possibly 6 duplicates.\n"
     ]
    },
    {
     "data": {
      "text/html": [
       "<div>\n",
       "<style scoped>\n",
       "    .dataframe tbody tr th:only-of-type {\n",
       "        vertical-align: middle;\n",
       "    }\n",
       "\n",
       "    .dataframe tbody tr th {\n",
       "        vertical-align: top;\n",
       "    }\n",
       "\n",
       "    .dataframe thead th {\n",
       "        text-align: right;\n",
       "    }\n",
       "</style>\n",
       "<table border=\"1\" class=\"dataframe\">\n",
       "  <thead>\n",
       "    <tr style=\"text-align: right;\">\n",
       "      <th></th>\n",
       "      <th>id</th>\n",
       "      <th>status</th>\n",
       "      <th>night_priceـnative</th>\n",
       "      <th>night_price</th>\n",
       "      <th>weekly_price</th>\n",
       "      <th>monthly_price</th>\n",
       "      <th>cleaning_fee_native</th>\n",
       "      <th>num_of_baths</th>\n",
       "      <th>num_of_rooms</th>\n",
       "      <th>occupancy</th>\n",
       "      <th>nights_booked</th>\n",
       "      <th>rental_income</th>\n",
       "      <th>airbnb_neighborhood_id</th>\n",
       "      <th>airbnb_city</th>\n",
       "      <th>capacity_of_people</th>\n",
       "      <th>zip</th>\n",
       "      <th>property_type</th>\n",
       "      <th>room_type</th>\n",
       "      <th>room_type_category</th>\n",
       "      <th>amenities</th>\n",
       "      <th>reviews_count</th>\n",
       "      <th>start_rating</th>\n",
       "      <th>reviews</th>\n",
       "      <th>num_of_beds</th>\n",
       "      <th>lat</th>\n",
       "      <th>lon</th>\n",
       "      <th>star_rating</th>\n",
       "    </tr>\n",
       "  </thead>\n",
       "  <tbody>\n",
       "    <tr>\n",
       "      <th>4721</th>\n",
       "      <td>NaN</td>\n",
       "      <td>success</td>\n",
       "      <td>NaN</td>\n",
       "      <td>NaN</td>\n",
       "      <td>NaN</td>\n",
       "      <td>NaN</td>\n",
       "      <td>NaN</td>\n",
       "      <td>NaN</td>\n",
       "      <td>NaN</td>\n",
       "      <td>NaN</td>\n",
       "      <td>NaN</td>\n",
       "      <td>NaN</td>\n",
       "      <td>NaN</td>\n",
       "      <td>NaN</td>\n",
       "      <td>NaN</td>\n",
       "      <td>NaN</td>\n",
       "      <td>NaN</td>\n",
       "      <td>NaN</td>\n",
       "      <td>NaN</td>\n",
       "      <td>NaN</td>\n",
       "      <td>NaN</td>\n",
       "      <td>NaN</td>\n",
       "      <td>NaN</td>\n",
       "      <td>NaN</td>\n",
       "      <td>NaN</td>\n",
       "      <td>NaN</td>\n",
       "      <td>NaN</td>\n",
       "    </tr>\n",
       "    <tr>\n",
       "      <th>4722</th>\n",
       "      <td>NaN</td>\n",
       "      <td>success</td>\n",
       "      <td>NaN</td>\n",
       "      <td>NaN</td>\n",
       "      <td>NaN</td>\n",
       "      <td>NaN</td>\n",
       "      <td>NaN</td>\n",
       "      <td>NaN</td>\n",
       "      <td>NaN</td>\n",
       "      <td>NaN</td>\n",
       "      <td>NaN</td>\n",
       "      <td>NaN</td>\n",
       "      <td>NaN</td>\n",
       "      <td>NaN</td>\n",
       "      <td>NaN</td>\n",
       "      <td>NaN</td>\n",
       "      <td>NaN</td>\n",
       "      <td>NaN</td>\n",
       "      <td>NaN</td>\n",
       "      <td>NaN</td>\n",
       "      <td>NaN</td>\n",
       "      <td>NaN</td>\n",
       "      <td>NaN</td>\n",
       "      <td>NaN</td>\n",
       "      <td>NaN</td>\n",
       "      <td>NaN</td>\n",
       "      <td>NaN</td>\n",
       "    </tr>\n",
       "    <tr>\n",
       "      <th>4723</th>\n",
       "      <td>NaN</td>\n",
       "      <td>success</td>\n",
       "      <td>NaN</td>\n",
       "      <td>NaN</td>\n",
       "      <td>NaN</td>\n",
       "      <td>NaN</td>\n",
       "      <td>NaN</td>\n",
       "      <td>NaN</td>\n",
       "      <td>NaN</td>\n",
       "      <td>NaN</td>\n",
       "      <td>NaN</td>\n",
       "      <td>NaN</td>\n",
       "      <td>NaN</td>\n",
       "      <td>NaN</td>\n",
       "      <td>NaN</td>\n",
       "      <td>NaN</td>\n",
       "      <td>NaN</td>\n",
       "      <td>NaN</td>\n",
       "      <td>NaN</td>\n",
       "      <td>NaN</td>\n",
       "      <td>NaN</td>\n",
       "      <td>NaN</td>\n",
       "      <td>NaN</td>\n",
       "      <td>NaN</td>\n",
       "      <td>NaN</td>\n",
       "      <td>NaN</td>\n",
       "      <td>NaN</td>\n",
       "    </tr>\n",
       "    <tr>\n",
       "      <th>4724</th>\n",
       "      <td>NaN</td>\n",
       "      <td>success</td>\n",
       "      <td>NaN</td>\n",
       "      <td>NaN</td>\n",
       "      <td>NaN</td>\n",
       "      <td>NaN</td>\n",
       "      <td>NaN</td>\n",
       "      <td>NaN</td>\n",
       "      <td>NaN</td>\n",
       "      <td>NaN</td>\n",
       "      <td>NaN</td>\n",
       "      <td>NaN</td>\n",
       "      <td>NaN</td>\n",
       "      <td>NaN</td>\n",
       "      <td>NaN</td>\n",
       "      <td>NaN</td>\n",
       "      <td>NaN</td>\n",
       "      <td>NaN</td>\n",
       "      <td>NaN</td>\n",
       "      <td>NaN</td>\n",
       "      <td>NaN</td>\n",
       "      <td>NaN</td>\n",
       "      <td>NaN</td>\n",
       "      <td>NaN</td>\n",
       "      <td>NaN</td>\n",
       "      <td>NaN</td>\n",
       "      <td>NaN</td>\n",
       "    </tr>\n",
       "    <tr>\n",
       "      <th>4725</th>\n",
       "      <td>NaN</td>\n",
       "      <td>success</td>\n",
       "      <td>NaN</td>\n",
       "      <td>NaN</td>\n",
       "      <td>NaN</td>\n",
       "      <td>NaN</td>\n",
       "      <td>NaN</td>\n",
       "      <td>NaN</td>\n",
       "      <td>NaN</td>\n",
       "      <td>NaN</td>\n",
       "      <td>NaN</td>\n",
       "      <td>NaN</td>\n",
       "      <td>NaN</td>\n",
       "      <td>NaN</td>\n",
       "      <td>NaN</td>\n",
       "      <td>NaN</td>\n",
       "      <td>NaN</td>\n",
       "      <td>NaN</td>\n",
       "      <td>NaN</td>\n",
       "      <td>NaN</td>\n",
       "      <td>NaN</td>\n",
       "      <td>NaN</td>\n",
       "      <td>NaN</td>\n",
       "      <td>NaN</td>\n",
       "      <td>NaN</td>\n",
       "      <td>NaN</td>\n",
       "      <td>NaN</td>\n",
       "    </tr>\n",
       "  </tbody>\n",
       "</table>\n",
       "</div>"
      ],
      "text/plain": [
       "      id   status  night_priceـnative  night_price  weekly_price  \\\n",
       "4721 NaN  success                 NaN          NaN           NaN   \n",
       "4722 NaN  success                 NaN          NaN           NaN   \n",
       "4723 NaN  success                 NaN          NaN           NaN   \n",
       "4724 NaN  success                 NaN          NaN           NaN   \n",
       "4725 NaN  success                 NaN          NaN           NaN   \n",
       "\n",
       "      monthly_price  cleaning_fee_native  num_of_baths  num_of_rooms  \\\n",
       "4721            NaN                  NaN           NaN           NaN   \n",
       "4722            NaN                  NaN           NaN           NaN   \n",
       "4723            NaN                  NaN           NaN           NaN   \n",
       "4724            NaN                  NaN           NaN           NaN   \n",
       "4725            NaN                  NaN           NaN           NaN   \n",
       "\n",
       "      occupancy  nights_booked  rental_income  airbnb_neighborhood_id  \\\n",
       "4721        NaN            NaN            NaN                     NaN   \n",
       "4722        NaN            NaN            NaN                     NaN   \n",
       "4723        NaN            NaN            NaN                     NaN   \n",
       "4724        NaN            NaN            NaN                     NaN   \n",
       "4725        NaN            NaN            NaN                     NaN   \n",
       "\n",
       "     airbnb_city  capacity_of_people  zip property_type room_type  \\\n",
       "4721         NaN                 NaN  NaN           NaN       NaN   \n",
       "4722         NaN                 NaN  NaN           NaN       NaN   \n",
       "4723         NaN                 NaN  NaN           NaN       NaN   \n",
       "4724         NaN                 NaN  NaN           NaN       NaN   \n",
       "4725         NaN                 NaN  NaN           NaN       NaN   \n",
       "\n",
       "     room_type_category  amenities  reviews_count  start_rating  reviews  \\\n",
       "4721                NaN        NaN            NaN           NaN      NaN   \n",
       "4722                NaN        NaN            NaN           NaN      NaN   \n",
       "4723                NaN        NaN            NaN           NaN      NaN   \n",
       "4724                NaN        NaN            NaN           NaN      NaN   \n",
       "4725                NaN        NaN            NaN           NaN      NaN   \n",
       "\n",
       "      num_of_beds  lat  lon  star_rating  \n",
       "4721          NaN  NaN  NaN          NaN  \n",
       "4722          NaN  NaN  NaN          NaN  \n",
       "4723          NaN  NaN  NaN          NaN  \n",
       "4724          NaN  NaN  NaN          NaN  \n",
       "4725          NaN  NaN  NaN          NaN  "
      ]
     },
     "execution_count": 8,
     "metadata": {},
     "output_type": "execute_result"
    }
   ],
   "source": [
    "# Review \"id\" column \n",
    "print(\"There are \" + str(len(properties_df)) + \" rows in the properties_df DataFrame.\")\n",
    "print(\"The id field has \" + str(len(properties_df[\"id\"].value_counts())) + \" different types of values.\")\n",
    "duplicate_indicator = len(properties_df) - len(properties_df[\"id\"].value_counts())\n",
    "print(f\"There are possibly {str(duplicate_indicator)} duplicates.\")\n",
    "properties_df[properties_df[\"id\"].duplicated()]\n",
    "# Should delete these duplicate rows"
   ]
  },
  {
   "cell_type": "code",
   "execution_count": 9,
   "metadata": {},
   "outputs": [
    {
     "data": {
      "text/plain": [
       "6"
      ]
     },
     "execution_count": 9,
     "metadata": {},
     "output_type": "execute_result"
    }
   ],
   "source": [
    "properties_df[\"id\"].isna().sum()"
   ]
  },
  {
   "cell_type": "code",
   "execution_count": 10,
   "metadata": {},
   "outputs": [
    {
     "data": {
      "text/plain": [
       "0"
      ]
     },
     "execution_count": 10,
     "metadata": {},
     "output_type": "execute_result"
    }
   ],
   "source": [
    "properties_df = properties_df.dropna(axis=0, subset=[\"id\"])\n",
    "properties_df[\"id\"].isna().sum()"
   ]
  },
  {
   "cell_type": "code",
   "execution_count": 11,
   "metadata": {},
   "outputs": [
    {
     "data": {
      "text/plain": [
       "ACTIVE    4720\n",
       "Name: status, dtype: int64"
      ]
     },
     "execution_count": 11,
     "metadata": {},
     "output_type": "execute_result"
    }
   ],
   "source": [
    "properties_df[\"status\"].value_counts()\n",
    "#Should remove, useless"
   ]
  },
  {
   "cell_type": "code",
   "execution_count": 12,
   "metadata": {},
   "outputs": [
    {
     "name": "stdout",
     "output_type": "stream",
     "text": [
      "<class 'pandas.core.frame.DataFrame'>\n",
      "Int64Index: 4720 entries, 0 to 4719\n",
      "Data columns (total 26 columns):\n",
      " #   Column                  Non-Null Count  Dtype  \n",
      "---  ------                  --------------  -----  \n",
      " 0   id                      4720 non-null   float64\n",
      " 1   night_priceـnative      4720 non-null   float64\n",
      " 2   night_price             4720 non-null   float64\n",
      " 3   weekly_price            4720 non-null   float64\n",
      " 4   monthly_price           4720 non-null   float64\n",
      " 5   cleaning_fee_native     4232 non-null   float64\n",
      " 6   num_of_baths            4720 non-null   float64\n",
      " 7   num_of_rooms            4717 non-null   float64\n",
      " 8   occupancy               4720 non-null   float64\n",
      " 9   nights_booked           4720 non-null   float64\n",
      " 10  rental_income           4720 non-null   float64\n",
      " 11  airbnb_neighborhood_id  4720 non-null   float64\n",
      " 12  airbnb_city             4720 non-null   object \n",
      " 13  capacity_of_people      4720 non-null   float64\n",
      " 14  zip                     4706 non-null   float64\n",
      " 15  property_type           4720 non-null   object \n",
      " 16  room_type               4720 non-null   object \n",
      " 17  room_type_category      4720 non-null   object \n",
      " 18  amenities               0 non-null      float64\n",
      " 19  reviews_count           4720 non-null   float64\n",
      " 20  start_rating            4718 non-null   float64\n",
      " 21  reviews                 0 non-null      float64\n",
      " 22  num_of_beds             4715 non-null   float64\n",
      " 23  lat                     4720 non-null   float64\n",
      " 24  lon                     4720 non-null   float64\n",
      " 25  star_rating             4718 non-null   float64\n",
      "dtypes: float64(22), object(4)\n",
      "memory usage: 995.6+ KB\n"
     ]
    }
   ],
   "source": [
    "properties_df = properties_df.drop(columns=[\"status\"])\n",
    "properties_df.info()"
   ]
  },
  {
   "cell_type": "code",
   "execution_count": 13,
   "metadata": {},
   "outputs": [
    {
     "data": {
      "text/plain": [
       "House                 1663\n",
       "Apartment             1014\n",
       "Condominium            542\n",
       "Guest suite            420\n",
       "Guesthouse             369\n",
       "Townhouse              204\n",
       "Bungalow               177\n",
       "Villa                   82\n",
       "Loft                    57\n",
       "Serviced apartment      57\n",
       "Tiny house              55\n",
       "Vacation home           36\n",
       "Cottage                 24\n",
       "Other                   12\n",
       "Cabin                    4\n",
       "Farm stay                3\n",
       "Chalet                   1\n",
       "Name: property_type, dtype: int64"
      ]
     },
     "execution_count": 13,
     "metadata": {},
     "output_type": "execute_result"
    }
   ],
   "source": [
    "properties_df[\"property_type\"].value_counts()\n",
    "# May want group Bungalow and below into an \"Other\" category"
   ]
  },
  {
   "cell_type": "code",
   "execution_count": 14,
   "metadata": {},
   "outputs": [
    {
     "data": {
      "text/plain": [
       "Entire home/apt    4720\n",
       "Name: room_type, dtype: int64"
      ]
     },
     "execution_count": 14,
     "metadata": {},
     "output_type": "execute_result"
    }
   ],
   "source": [
    "properties_df[\"room_type\"].value_counts()\n",
    "# Good candidate for removing, all the fields are the same"
   ]
  },
  {
   "cell_type": "code",
   "execution_count": 15,
   "metadata": {},
   "outputs": [
    {
     "data": {
      "text/plain": [
       "entire_home    4720\n",
       "Name: room_type_category, dtype: int64"
      ]
     },
     "execution_count": 15,
     "metadata": {},
     "output_type": "execute_result"
    }
   ],
   "source": [
    "properties_df[\"room_type_category\"].value_counts()\n",
    "# Good candidate for removing, all the fields are the same"
   ]
  },
  {
   "cell_type": "code",
   "execution_count": 16,
   "metadata": {},
   "outputs": [],
   "source": [
    "# Removing for now. We can add \"room_type_category\" back if we have time to get each one\n",
    "properties_df = properties_df.drop(columns=[\"room_type_category\"])"
   ]
  },
  {
   "cell_type": "code",
   "execution_count": 17,
   "metadata": {},
   "outputs": [
    {
     "data": {
      "text/plain": [
       "Series([], Name: amenities, dtype: int64)"
      ]
     },
     "execution_count": 17,
     "metadata": {},
     "output_type": "execute_result"
    }
   ],
   "source": [
    "properties_df[\"amenities\"].value_counts()\n",
    "# Believe this data is in another json dataset. We have to pull this data for each one\n",
    "# for 4K records, that might not be enough time to do that "
   ]
  },
  {
   "cell_type": "code",
   "execution_count": 18,
   "metadata": {},
   "outputs": [],
   "source": [
    "# Removing for now. We can add \"amenities\" back if we have time to get each one\n",
    "properties_df = properties_df.drop(columns=[\"amenities\"])"
   ]
  },
  {
   "cell_type": "code",
   "execution_count": 19,
   "metadata": {},
   "outputs": [
    {
     "data": {
      "text/plain": [
       "5.0    4478\n",
       "4.0     227\n",
       "3.0      12\n",
       "1.0       1\n",
       "Name: star_rating, dtype: int64"
      ]
     },
     "execution_count": 19,
     "metadata": {},
     "output_type": "execute_result"
    }
   ],
   "source": [
    "properties_df[\"star_rating\"].value_counts()"
   ]
  },
  {
   "cell_type": "code",
   "execution_count": 20,
   "metadata": {},
   "outputs": [
    {
     "data": {
      "text/plain": [
       "5.0    4478\n",
       "4.0     227\n",
       "3.0      12\n",
       "1.0       1\n",
       "Name: start_rating, dtype: int64"
      ]
     },
     "execution_count": 20,
     "metadata": {},
     "output_type": "execute_result"
    }
   ],
   "source": [
    "properties_df[\"start_rating\"].value_counts()"
   ]
  },
  {
   "cell_type": "code",
   "execution_count": 21,
   "metadata": {},
   "outputs": [],
   "source": [
    "# Believe \"start_rating\" column is a duplicate of star_rating\n",
    "properties_df = properties_df.drop(columns=[\"start_rating\"])"
   ]
  },
  {
   "cell_type": "code",
   "execution_count": 24,
   "metadata": {},
   "outputs": [
    {
     "data": {
      "text/plain": [
       "2"
      ]
     },
     "execution_count": 24,
     "metadata": {},
     "output_type": "execute_result"
    }
   ],
   "source": [
    "properties_df[\"star_rating\"].isnull().sum()"
   ]
  },
  {
   "cell_type": "code",
   "execution_count": null,
   "metadata": {},
   "outputs": [],
   "source": [
    "#properties_df.dropna(subset = ['star_rating'])"
   ]
  },
  {
   "cell_type": "code",
   "execution_count": 47,
   "metadata": {},
   "outputs": [
    {
     "data": {
      "text/plain": [
       "Series([], Name: reviews, dtype: int64)"
      ]
     },
     "execution_count": 47,
     "metadata": {},
     "output_type": "execute_result"
    }
   ],
   "source": [
    "properties_df[\"reviews\"].value_counts()"
   ]
  },
  {
   "cell_type": "code",
   "execution_count": 48,
   "metadata": {},
   "outputs": [],
   "source": [
    "# Removing for now. We can add \"reviews\" back if we have time to get each one\n",
    "# Believe this data is in another json dataset. We have to pull this data for each one\n",
    "# for 4K records, that might not be enough time to do that \n",
    "properties_df = properties_df.drop(columns=[\"reviews\"])"
   ]
  },
  {
   "cell_type": "code",
   "execution_count": 49,
   "metadata": {},
   "outputs": [
    {
     "data": {
      "text/html": [
       "<div>\n",
       "<style scoped>\n",
       "    .dataframe tbody tr th:only-of-type {\n",
       "        vertical-align: middle;\n",
       "    }\n",
       "\n",
       "    .dataframe tbody tr th {\n",
       "        vertical-align: top;\n",
       "    }\n",
       "\n",
       "    .dataframe thead th {\n",
       "        text-align: right;\n",
       "    }\n",
       "</style>\n",
       "<table border=\"1\" class=\"dataframe\">\n",
       "  <thead>\n",
       "    <tr style=\"text-align: right;\">\n",
       "      <th></th>\n",
       "      <th>id</th>\n",
       "      <th>night_priceـnative</th>\n",
       "      <th>night_price</th>\n",
       "      <th>weekly_price</th>\n",
       "      <th>monthly_price</th>\n",
       "      <th>cleaning_fee_native</th>\n",
       "      <th>num_of_baths</th>\n",
       "      <th>num_of_rooms</th>\n",
       "      <th>occupancy</th>\n",
       "      <th>nights_booked</th>\n",
       "      <th>rental_income</th>\n",
       "      <th>airbnb_neighborhood_id</th>\n",
       "      <th>airbnb_city</th>\n",
       "      <th>capacity_of_people</th>\n",
       "      <th>zip</th>\n",
       "      <th>property_type</th>\n",
       "      <th>room_type</th>\n",
       "      <th>reviews_count</th>\n",
       "      <th>num_of_beds</th>\n",
       "      <th>lat</th>\n",
       "      <th>lon</th>\n",
       "      <th>star_rating</th>\n",
       "    </tr>\n",
       "  </thead>\n",
       "  <tbody>\n",
       "    <tr>\n",
       "      <th>0</th>\n",
       "      <td>33453937.0</td>\n",
       "      <td>110.0</td>\n",
       "      <td>108.0</td>\n",
       "      <td>0.0</td>\n",
       "      <td>0.0</td>\n",
       "      <td>110.0</td>\n",
       "      <td>2.0</td>\n",
       "      <td>2.0</td>\n",
       "      <td>48.0</td>\n",
       "      <td>177.0</td>\n",
       "      <td>1593.0</td>\n",
       "      <td>268906.0</td>\n",
       "      <td>Orlando</td>\n",
       "      <td>4.0</td>\n",
       "      <td>32822.0</td>\n",
       "      <td>Apartment</td>\n",
       "      <td>Entire home/apt</td>\n",
       "      <td>78.0</td>\n",
       "      <td>2.0</td>\n",
       "      <td>28.5049</td>\n",
       "      <td>-81.2989</td>\n",
       "      <td>5.0</td>\n",
       "    </tr>\n",
       "    <tr>\n",
       "      <th>1</th>\n",
       "      <td>33454729.0</td>\n",
       "      <td>237.0</td>\n",
       "      <td>434.0</td>\n",
       "      <td>0.0</td>\n",
       "      <td>0.0</td>\n",
       "      <td>185.0</td>\n",
       "      <td>4.0</td>\n",
       "      <td>5.0</td>\n",
       "      <td>76.0</td>\n",
       "      <td>279.0</td>\n",
       "      <td>10091.0</td>\n",
       "      <td>268914.0</td>\n",
       "      <td>Orlando</td>\n",
       "      <td>16.0</td>\n",
       "      <td>32805.0</td>\n",
       "      <td>House</td>\n",
       "      <td>Entire home/apt</td>\n",
       "      <td>136.0</td>\n",
       "      <td>8.0</td>\n",
       "      <td>28.5216</td>\n",
       "      <td>-81.4037</td>\n",
       "      <td>5.0</td>\n",
       "    </tr>\n",
       "  </tbody>\n",
       "</table>\n",
       "</div>"
      ],
      "text/plain": [
       "           id  night_priceـnative  night_price  weekly_price  monthly_price  \\\n",
       "0  33453937.0               110.0        108.0           0.0            0.0   \n",
       "1  33454729.0               237.0        434.0           0.0            0.0   \n",
       "\n",
       "   cleaning_fee_native  num_of_baths  num_of_rooms  occupancy  nights_booked  \\\n",
       "0                110.0           2.0           2.0       48.0          177.0   \n",
       "1                185.0           4.0           5.0       76.0          279.0   \n",
       "\n",
       "   rental_income  airbnb_neighborhood_id airbnb_city  capacity_of_people  \\\n",
       "0         1593.0                268906.0     Orlando                 4.0   \n",
       "1        10091.0                268914.0     Orlando                16.0   \n",
       "\n",
       "       zip property_type        room_type  reviews_count  num_of_beds  \\\n",
       "0  32822.0     Apartment  Entire home/apt           78.0          2.0   \n",
       "1  32805.0         House  Entire home/apt          136.0          8.0   \n",
       "\n",
       "       lat      lon  star_rating  \n",
       "0  28.5049 -81.2989          5.0  \n",
       "1  28.5216 -81.4037          5.0  "
      ]
     },
     "execution_count": 49,
     "metadata": {},
     "output_type": "execute_result"
    }
   ],
   "source": [
    "properties_df.to_csv(\"csv/clean_all_property_data.csv\", index=False)\n",
    "properties_df.head(2)"
   ]
  },
  {
   "cell_type": "code",
   "execution_count": 50,
   "metadata": {},
   "outputs": [
    {
     "data": {
      "text/plain": [
       "22"
      ]
     },
     "execution_count": 50,
     "metadata": {},
     "output_type": "execute_result"
    }
   ],
   "source": [
    "len(properties_df.columns)"
   ]
  },
  {
   "cell_type": "code",
   "execution_count": 51,
   "metadata": {},
   "outputs": [
    {
     "data": {
      "text/html": [
       "<div>\n",
       "<style scoped>\n",
       "    .dataframe tbody tr th:only-of-type {\n",
       "        vertical-align: middle;\n",
       "    }\n",
       "\n",
       "    .dataframe tbody tr th {\n",
       "        vertical-align: top;\n",
       "    }\n",
       "\n",
       "    .dataframe thead th {\n",
       "        text-align: right;\n",
       "    }\n",
       "</style>\n",
       "<table border=\"1\" class=\"dataframe\">\n",
       "  <thead>\n",
       "    <tr style=\"text-align: right;\">\n",
       "      <th></th>\n",
       "      <th>id</th>\n",
       "      <th>nights_booked</th>\n",
       "      <th>occupancy</th>\n",
       "      <th>rental_income</th>\n",
       "      <th>star_rating</th>\n",
       "    </tr>\n",
       "  </thead>\n",
       "  <tbody>\n",
       "    <tr>\n",
       "      <th>0</th>\n",
       "      <td>33453937.0</td>\n",
       "      <td>177.0</td>\n",
       "      <td>48.0</td>\n",
       "      <td>1593.0</td>\n",
       "      <td>5.0</td>\n",
       "    </tr>\n",
       "    <tr>\n",
       "      <th>1</th>\n",
       "      <td>33454729.0</td>\n",
       "      <td>279.0</td>\n",
       "      <td>76.0</td>\n",
       "      <td>10091.0</td>\n",
       "      <td>5.0</td>\n",
       "    </tr>\n",
       "    <tr>\n",
       "      <th>2</th>\n",
       "      <td>33453571.0</td>\n",
       "      <td>167.0</td>\n",
       "      <td>46.0</td>\n",
       "      <td>4746.0</td>\n",
       "      <td>5.0</td>\n",
       "    </tr>\n",
       "    <tr>\n",
       "      <th>3</th>\n",
       "      <td>33460647.0</td>\n",
       "      <td>191.0</td>\n",
       "      <td>52.0</td>\n",
       "      <td>2722.0</td>\n",
       "      <td>5.0</td>\n",
       "    </tr>\n",
       "    <tr>\n",
       "      <th>4</th>\n",
       "      <td>33456754.0</td>\n",
       "      <td>342.0</td>\n",
       "      <td>94.0</td>\n",
       "      <td>1796.0</td>\n",
       "      <td>5.0</td>\n",
       "    </tr>\n",
       "  </tbody>\n",
       "</table>\n",
       "</div>"
      ],
      "text/plain": [
       "           id  nights_booked  occupancy  rental_income  star_rating\n",
       "0  33453937.0          177.0       48.0         1593.0          5.0\n",
       "1  33454729.0          279.0       76.0        10091.0          5.0\n",
       "2  33453571.0          167.0       46.0         4746.0          5.0\n",
       "3  33460647.0          191.0       52.0         2722.0          5.0\n",
       "4  33456754.0          342.0       94.0         1796.0          5.0"
      ]
     },
     "execution_count": 51,
     "metadata": {},
     "output_type": "execute_result"
    }
   ],
   "source": [
    "success_indicators_df = properties_df[[\"id\",\"nights_booked\", \"occupancy\", \"rental_income\", \"star_rating\"]]\n",
    "success_indicators_df.to_csv(\"csv/success_indicators.csv\", index=False)\n",
    "success_indicators_df.head()"
   ]
  },
  {
   "cell_type": "code",
   "execution_count": 52,
   "metadata": {},
   "outputs": [
    {
     "data": {
      "text/html": [
       "<div>\n",
       "<style scoped>\n",
       "    .dataframe tbody tr th:only-of-type {\n",
       "        vertical-align: middle;\n",
       "    }\n",
       "\n",
       "    .dataframe tbody tr th {\n",
       "        vertical-align: top;\n",
       "    }\n",
       "\n",
       "    .dataframe thead th {\n",
       "        text-align: right;\n",
       "    }\n",
       "</style>\n",
       "<table border=\"1\" class=\"dataframe\">\n",
       "  <thead>\n",
       "    <tr style=\"text-align: right;\">\n",
       "      <th></th>\n",
       "      <th>id</th>\n",
       "      <th>nights_booked</th>\n",
       "      <th>occupancy</th>\n",
       "      <th>rental_income</th>\n",
       "      <th>star_rating</th>\n",
       "    </tr>\n",
       "  </thead>\n",
       "  <tbody>\n",
       "    <tr>\n",
       "      <th>count</th>\n",
       "      <td>4.720000e+03</td>\n",
       "      <td>4720.000000</td>\n",
       "      <td>4720.000000</td>\n",
       "      <td>4720.000000</td>\n",
       "      <td>4718.000000</td>\n",
       "    </tr>\n",
       "    <tr>\n",
       "      <th>mean</th>\n",
       "      <td>3.352554e+07</td>\n",
       "      <td>124.407839</td>\n",
       "      <td>47.260381</td>\n",
       "      <td>2009.305720</td>\n",
       "      <td>4.945952</td>\n",
       "    </tr>\n",
       "    <tr>\n",
       "      <th>std</th>\n",
       "      <td>7.511158e+04</td>\n",
       "      <td>95.159355</td>\n",
       "      <td>25.933747</td>\n",
       "      <td>1555.012083</td>\n",
       "      <td>0.242425</td>\n",
       "    </tr>\n",
       "    <tr>\n",
       "      <th>min</th>\n",
       "      <td>3.334208e+07</td>\n",
       "      <td>0.000000</td>\n",
       "      <td>0.000000</td>\n",
       "      <td>0.000000</td>\n",
       "      <td>1.000000</td>\n",
       "    </tr>\n",
       "    <tr>\n",
       "      <th>25%</th>\n",
       "      <td>3.345688e+07</td>\n",
       "      <td>44.000000</td>\n",
       "      <td>26.000000</td>\n",
       "      <td>951.500000</td>\n",
       "      <td>5.000000</td>\n",
       "    </tr>\n",
       "    <tr>\n",
       "      <th>50%</th>\n",
       "      <td>3.357576e+07</td>\n",
       "      <td>101.000000</td>\n",
       "      <td>46.000000</td>\n",
       "      <td>1665.500000</td>\n",
       "      <td>5.000000</td>\n",
       "    </tr>\n",
       "    <tr>\n",
       "      <th>75%</th>\n",
       "      <td>3.357882e+07</td>\n",
       "      <td>192.000000</td>\n",
       "      <td>68.000000</td>\n",
       "      <td>2675.000000</td>\n",
       "      <td>5.000000</td>\n",
       "    </tr>\n",
       "    <tr>\n",
       "      <th>max</th>\n",
       "      <td>3.360290e+07</td>\n",
       "      <td>365.000000</td>\n",
       "      <td>100.000000</td>\n",
       "      <td>14850.000000</td>\n",
       "      <td>5.000000</td>\n",
       "    </tr>\n",
       "  </tbody>\n",
       "</table>\n",
       "</div>"
      ],
      "text/plain": [
       "                 id  nights_booked    occupancy  rental_income  star_rating\n",
       "count  4.720000e+03    4720.000000  4720.000000    4720.000000  4718.000000\n",
       "mean   3.352554e+07     124.407839    47.260381    2009.305720     4.945952\n",
       "std    7.511158e+04      95.159355    25.933747    1555.012083     0.242425\n",
       "min    3.334208e+07       0.000000     0.000000       0.000000     1.000000\n",
       "25%    3.345688e+07      44.000000    26.000000     951.500000     5.000000\n",
       "50%    3.357576e+07     101.000000    46.000000    1665.500000     5.000000\n",
       "75%    3.357882e+07     192.000000    68.000000    2675.000000     5.000000\n",
       "max    3.360290e+07     365.000000   100.000000   14850.000000     5.000000"
      ]
     },
     "execution_count": 52,
     "metadata": {},
     "output_type": "execute_result"
    }
   ],
   "source": [
    "success_indicators_df.describe()"
   ]
  },
  {
   "cell_type": "code",
   "execution_count": 53,
   "metadata": {},
   "outputs": [
    {
     "data": {
      "text/html": [
       "<div>\n",
       "<style scoped>\n",
       "    .dataframe tbody tr th:only-of-type {\n",
       "        vertical-align: middle;\n",
       "    }\n",
       "\n",
       "    .dataframe tbody tr th {\n",
       "        vertical-align: top;\n",
       "    }\n",
       "\n",
       "    .dataframe thead th {\n",
       "        text-align: right;\n",
       "    }\n",
       "</style>\n",
       "<table border=\"1\" class=\"dataframe\">\n",
       "  <thead>\n",
       "    <tr style=\"text-align: right;\">\n",
       "      <th></th>\n",
       "      <th>id</th>\n",
       "      <th>airbnb_city</th>\n",
       "      <th>lat</th>\n",
       "      <th>lon</th>\n",
       "      <th>star_rating</th>\n",
       "    </tr>\n",
       "  </thead>\n",
       "  <tbody>\n",
       "    <tr>\n",
       "      <th>0</th>\n",
       "      <td>33453937.0</td>\n",
       "      <td>Orlando</td>\n",
       "      <td>28.5049</td>\n",
       "      <td>-81.2989</td>\n",
       "      <td>5.0</td>\n",
       "    </tr>\n",
       "    <tr>\n",
       "      <th>1</th>\n",
       "      <td>33454729.0</td>\n",
       "      <td>Orlando</td>\n",
       "      <td>28.5216</td>\n",
       "      <td>-81.4037</td>\n",
       "      <td>5.0</td>\n",
       "    </tr>\n",
       "    <tr>\n",
       "      <th>2</th>\n",
       "      <td>33453571.0</td>\n",
       "      <td>Orlando</td>\n",
       "      <td>28.5916</td>\n",
       "      <td>-81.3521</td>\n",
       "      <td>5.0</td>\n",
       "    </tr>\n",
       "    <tr>\n",
       "      <th>3</th>\n",
       "      <td>33460647.0</td>\n",
       "      <td>Orlando</td>\n",
       "      <td>28.5683</td>\n",
       "      <td>-81.3854</td>\n",
       "      <td>5.0</td>\n",
       "    </tr>\n",
       "    <tr>\n",
       "      <th>4</th>\n",
       "      <td>33456754.0</td>\n",
       "      <td>Orlando</td>\n",
       "      <td>28.4561</td>\n",
       "      <td>-81.4700</td>\n",
       "      <td>5.0</td>\n",
       "    </tr>\n",
       "  </tbody>\n",
       "</table>\n",
       "</div>"
      ],
      "text/plain": [
       "           id airbnb_city      lat      lon  star_rating\n",
       "0  33453937.0     Orlando  28.5049 -81.2989          5.0\n",
       "1  33454729.0     Orlando  28.5216 -81.4037          5.0\n",
       "2  33453571.0     Orlando  28.5916 -81.3521          5.0\n",
       "3  33460647.0     Orlando  28.5683 -81.3854          5.0\n",
       "4  33456754.0     Orlando  28.4561 -81.4700          5.0"
      ]
     },
     "execution_count": 53,
     "metadata": {},
     "output_type": "execute_result"
    }
   ],
   "source": [
    "property_location_df = properties_df[[\"id\", \"airbnb_city\", \"lat\", \"lon\", \"star_rating\"]]\n",
    "property_location_df.to_csv(\"csv/property_locations.csv\", index=False)\n",
    "property_location_df.head()"
   ]
  },
  {
   "cell_type": "code",
   "execution_count": 54,
   "metadata": {},
   "outputs": [
    {
     "data": {
      "text/html": [
       "<div>\n",
       "<style scoped>\n",
       "    .dataframe tbody tr th:only-of-type {\n",
       "        vertical-align: middle;\n",
       "    }\n",
       "\n",
       "    .dataframe tbody tr th {\n",
       "        vertical-align: top;\n",
       "    }\n",
       "\n",
       "    .dataframe thead th {\n",
       "        text-align: right;\n",
       "    }\n",
       "</style>\n",
       "<table border=\"1\" class=\"dataframe\">\n",
       "  <thead>\n",
       "    <tr style=\"text-align: right;\">\n",
       "      <th></th>\n",
       "      <th>id</th>\n",
       "      <th>lat</th>\n",
       "      <th>lon</th>\n",
       "      <th>star_rating</th>\n",
       "    </tr>\n",
       "  </thead>\n",
       "  <tbody>\n",
       "    <tr>\n",
       "      <th>count</th>\n",
       "      <td>4.720000e+03</td>\n",
       "      <td>4720.000000</td>\n",
       "      <td>4720.000000</td>\n",
       "      <td>4718.000000</td>\n",
       "    </tr>\n",
       "    <tr>\n",
       "      <th>mean</th>\n",
       "      <td>3.352554e+07</td>\n",
       "      <td>28.161419</td>\n",
       "      <td>-82.080250</td>\n",
       "      <td>4.945952</td>\n",
       "    </tr>\n",
       "    <tr>\n",
       "      <th>std</th>\n",
       "      <td>7.511158e+04</td>\n",
       "      <td>0.252045</td>\n",
       "      <td>0.521119</td>\n",
       "      <td>0.242425</td>\n",
       "    </tr>\n",
       "    <tr>\n",
       "      <th>min</th>\n",
       "      <td>3.334208e+07</td>\n",
       "      <td>27.856400</td>\n",
       "      <td>-82.605500</td>\n",
       "      <td>1.000000</td>\n",
       "    </tr>\n",
       "    <tr>\n",
       "      <th>25%</th>\n",
       "      <td>3.345688e+07</td>\n",
       "      <td>27.964100</td>\n",
       "      <td>-82.488225</td>\n",
       "      <td>5.000000</td>\n",
       "    </tr>\n",
       "    <tr>\n",
       "      <th>50%</th>\n",
       "      <td>3.357576e+07</td>\n",
       "      <td>28.010650</td>\n",
       "      <td>-82.446000</td>\n",
       "      <td>5.000000</td>\n",
       "    </tr>\n",
       "    <tr>\n",
       "      <th>75%</th>\n",
       "      <td>3.357882e+07</td>\n",
       "      <td>28.470600</td>\n",
       "      <td>-81.456575</td>\n",
       "      <td>5.000000</td>\n",
       "    </tr>\n",
       "    <tr>\n",
       "      <th>max</th>\n",
       "      <td>3.360290e+07</td>\n",
       "      <td>28.631200</td>\n",
       "      <td>-81.213000</td>\n",
       "      <td>5.000000</td>\n",
       "    </tr>\n",
       "  </tbody>\n",
       "</table>\n",
       "</div>"
      ],
      "text/plain": [
       "                 id          lat          lon  star_rating\n",
       "count  4.720000e+03  4720.000000  4720.000000  4718.000000\n",
       "mean   3.352554e+07    28.161419   -82.080250     4.945952\n",
       "std    7.511158e+04     0.252045     0.521119     0.242425\n",
       "min    3.334208e+07    27.856400   -82.605500     1.000000\n",
       "25%    3.345688e+07    27.964100   -82.488225     5.000000\n",
       "50%    3.357576e+07    28.010650   -82.446000     5.000000\n",
       "75%    3.357882e+07    28.470600   -81.456575     5.000000\n",
       "max    3.360290e+07    28.631200   -81.213000     5.000000"
      ]
     },
     "execution_count": 54,
     "metadata": {},
     "output_type": "execute_result"
    }
   ],
   "source": [
    "property_location_df.describe()"
   ]
  }
 ],
 "metadata": {
  "kernelspec": {
   "display_name": "Python 3.9.12 ('base')",
   "language": "python",
   "name": "python3"
  },
  "language_info": {
   "codemirror_mode": {
    "name": "ipython",
    "version": 3
   },
   "file_extension": ".py",
   "mimetype": "text/x-python",
   "name": "python",
   "nbconvert_exporter": "python",
   "pygments_lexer": "ipython3",
   "version": "3.9.12"
  },
  "orig_nbformat": 4,
  "vscode": {
   "interpreter": {
    "hash": "c68d24a0c1b2d4f8ec99f176faf787c422c688a72fe766fb881f53ce82623ad2"
   }
  }
 },
 "nbformat": 4,
 "nbformat_minor": 2
}
