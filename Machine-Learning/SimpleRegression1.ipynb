{
 "cells": [
  {
   "cell_type": "code",
   "execution_count": 26,
   "id": "61637581-4695-4247-bb40-465a8ea65175",
   "metadata": {},
   "outputs": [],
   "source": [
    "# import dependencies\n",
    "%matplotlib inline\n",
    "from matplotlib import pyplot as plt\n",
    "from sklearn.datasets import make_classification\n",
    "import numpy as np\n",
    "import pandas as pd\n",
    "from sklearn.ensemble import RandomForestClassifier\n",
    "from sklearn.linear_model import LogisticRegression\n",
    "from sklearn.model_selection import train_test_split\n",
    "from sklearn.preprocessing import StandardScaler\n",
    "from sklearn.linear_model import LinearRegression"
   ]
  },
  {
   "cell_type": "code",
   "execution_count": 13,
   "id": "3861d258-14fe-48ea-a40f-1f4c46c64180",
   "metadata": {},
   "outputs": [
    {
     "data": {
      "text/html": [
       "<div>\n",
       "<style scoped>\n",
       "    .dataframe tbody tr th:only-of-type {\n",
       "        vertical-align: middle;\n",
       "    }\n",
       "\n",
       "    .dataframe tbody tr th {\n",
       "        vertical-align: top;\n",
       "    }\n",
       "\n",
       "    .dataframe thead th {\n",
       "        text-align: right;\n",
       "    }\n",
       "</style>\n",
       "<table border=\"1\" class=\"dataframe\">\n",
       "  <thead>\n",
       "    <tr style=\"text-align: right;\">\n",
       "      <th></th>\n",
       "      <th>id</th>\n",
       "      <th>nights_booked</th>\n",
       "      <th>occupancy</th>\n",
       "      <th>rental_income</th>\n",
       "      <th>star_rating</th>\n",
       "    </tr>\n",
       "  </thead>\n",
       "  <tbody>\n",
       "    <tr>\n",
       "      <th>0</th>\n",
       "      <td>33453937.0</td>\n",
       "      <td>177.0</td>\n",
       "      <td>48.0</td>\n",
       "      <td>1593.0</td>\n",
       "      <td>5.0</td>\n",
       "    </tr>\n",
       "    <tr>\n",
       "      <th>1</th>\n",
       "      <td>33454729.0</td>\n",
       "      <td>279.0</td>\n",
       "      <td>76.0</td>\n",
       "      <td>10091.0</td>\n",
       "      <td>5.0</td>\n",
       "    </tr>\n",
       "    <tr>\n",
       "      <th>2</th>\n",
       "      <td>33453571.0</td>\n",
       "      <td>167.0</td>\n",
       "      <td>46.0</td>\n",
       "      <td>4746.0</td>\n",
       "      <td>5.0</td>\n",
       "    </tr>\n",
       "    <tr>\n",
       "      <th>3</th>\n",
       "      <td>33460647.0</td>\n",
       "      <td>191.0</td>\n",
       "      <td>52.0</td>\n",
       "      <td>2722.0</td>\n",
       "      <td>5.0</td>\n",
       "    </tr>\n",
       "    <tr>\n",
       "      <th>4</th>\n",
       "      <td>33456754.0</td>\n",
       "      <td>342.0</td>\n",
       "      <td>94.0</td>\n",
       "      <td>1796.0</td>\n",
       "      <td>5.0</td>\n",
       "    </tr>\n",
       "  </tbody>\n",
       "</table>\n",
       "</div>"
      ],
      "text/plain": [
       "           id  nights_booked  occupancy  rental_income  star_rating\n",
       "0  33453937.0          177.0       48.0         1593.0          5.0\n",
       "1  33454729.0          279.0       76.0        10091.0          5.0\n",
       "2  33453571.0          167.0       46.0         4746.0          5.0\n",
       "3  33460647.0          191.0       52.0         2722.0          5.0\n",
       "4  33456754.0          342.0       94.0         1796.0          5.0"
      ]
     },
     "execution_count": 13,
     "metadata": {},
     "output_type": "execute_result"
    }
   ],
   "source": [
    "# bring in CSV as DataFrame\n",
    "dfClean = pd.read_csv('./clean_all_property_data.csv')\n",
    "dfClean.head()"
   ]
  },
  {
   "cell_type": "code",
   "execution_count": 14,
   "id": "b13dcbd0-fad8-4017-8dbd-d25dbf5effb2",
   "metadata": {},
   "outputs": [
    {
     "data": {
      "text/html": [
       "<div>\n",
       "<style scoped>\n",
       "    .dataframe tbody tr th:only-of-type {\n",
       "        vertical-align: middle;\n",
       "    }\n",
       "\n",
       "    .dataframe tbody tr th {\n",
       "        vertical-align: top;\n",
       "    }\n",
       "\n",
       "    .dataframe thead th {\n",
       "        text-align: right;\n",
       "    }\n",
       "</style>\n",
       "<table border=\"1\" class=\"dataframe\">\n",
       "  <thead>\n",
       "    <tr style=\"text-align: right;\">\n",
       "      <th></th>\n",
       "      <th>id</th>\n",
       "      <th>nights_booked</th>\n",
       "      <th>occupancy</th>\n",
       "      <th>rental_income</th>\n",
       "      <th>star_rating</th>\n",
       "    </tr>\n",
       "  </thead>\n",
       "  <tbody>\n",
       "    <tr>\n",
       "      <th>count</th>\n",
       "      <td>4.720000e+03</td>\n",
       "      <td>4720.000000</td>\n",
       "      <td>4720.000000</td>\n",
       "      <td>4720.000000</td>\n",
       "      <td>4718.000000</td>\n",
       "    </tr>\n",
       "    <tr>\n",
       "      <th>mean</th>\n",
       "      <td>3.352554e+07</td>\n",
       "      <td>124.407839</td>\n",
       "      <td>47.260381</td>\n",
       "      <td>2009.305720</td>\n",
       "      <td>4.945952</td>\n",
       "    </tr>\n",
       "    <tr>\n",
       "      <th>std</th>\n",
       "      <td>7.511158e+04</td>\n",
       "      <td>95.159355</td>\n",
       "      <td>25.933747</td>\n",
       "      <td>1555.012083</td>\n",
       "      <td>0.242425</td>\n",
       "    </tr>\n",
       "    <tr>\n",
       "      <th>min</th>\n",
       "      <td>3.334208e+07</td>\n",
       "      <td>0.000000</td>\n",
       "      <td>0.000000</td>\n",
       "      <td>0.000000</td>\n",
       "      <td>1.000000</td>\n",
       "    </tr>\n",
       "    <tr>\n",
       "      <th>25%</th>\n",
       "      <td>3.345688e+07</td>\n",
       "      <td>44.000000</td>\n",
       "      <td>26.000000</td>\n",
       "      <td>951.500000</td>\n",
       "      <td>5.000000</td>\n",
       "    </tr>\n",
       "    <tr>\n",
       "      <th>50%</th>\n",
       "      <td>3.357576e+07</td>\n",
       "      <td>101.000000</td>\n",
       "      <td>46.000000</td>\n",
       "      <td>1665.500000</td>\n",
       "      <td>5.000000</td>\n",
       "    </tr>\n",
       "    <tr>\n",
       "      <th>75%</th>\n",
       "      <td>3.357882e+07</td>\n",
       "      <td>192.000000</td>\n",
       "      <td>68.000000</td>\n",
       "      <td>2675.000000</td>\n",
       "      <td>5.000000</td>\n",
       "    </tr>\n",
       "    <tr>\n",
       "      <th>max</th>\n",
       "      <td>3.360290e+07</td>\n",
       "      <td>365.000000</td>\n",
       "      <td>100.000000</td>\n",
       "      <td>14850.000000</td>\n",
       "      <td>5.000000</td>\n",
       "    </tr>\n",
       "  </tbody>\n",
       "</table>\n",
       "</div>"
      ],
      "text/plain": [
       "                 id  nights_booked    occupancy  rental_income  star_rating\n",
       "count  4.720000e+03    4720.000000  4720.000000    4720.000000  4718.000000\n",
       "mean   3.352554e+07     124.407839    47.260381    2009.305720     4.945952\n",
       "std    7.511158e+04      95.159355    25.933747    1555.012083     0.242425\n",
       "min    3.334208e+07       0.000000     0.000000       0.000000     1.000000\n",
       "25%    3.345688e+07      44.000000    26.000000     951.500000     5.000000\n",
       "50%    3.357576e+07     101.000000    46.000000    1665.500000     5.000000\n",
       "75%    3.357882e+07     192.000000    68.000000    2675.000000     5.000000\n",
       "max    3.360290e+07     365.000000   100.000000   14850.000000     5.000000"
      ]
     },
     "execution_count": 14,
     "metadata": {},
     "output_type": "execute_result"
    }
   ],
   "source": [
    "dfClean.describe()"
   ]
  },
  {
   "cell_type": "code",
   "execution_count": 33,
   "id": "a862ec40-93c5-4aa9-80f7-35f8f0c80bfa",
   "metadata": {},
   "outputs": [
    {
     "data": {
      "text/html": [
       "<div>\n",
       "<style scoped>\n",
       "    .dataframe tbody tr th:only-of-type {\n",
       "        vertical-align: middle;\n",
       "    }\n",
       "\n",
       "    .dataframe tbody tr th {\n",
       "        vertical-align: top;\n",
       "    }\n",
       "\n",
       "    .dataframe thead th {\n",
       "        text-align: right;\n",
       "    }\n",
       "</style>\n",
       "<table border=\"1\" class=\"dataframe\">\n",
       "  <thead>\n",
       "    <tr style=\"text-align: right;\">\n",
       "      <th></th>\n",
       "      <th>id</th>\n",
       "      <th>nights_booked</th>\n",
       "      <th>occupancy</th>\n",
       "      <th>rental_income</th>\n",
       "      <th>star_rating</th>\n",
       "    </tr>\n",
       "  </thead>\n",
       "  <tbody>\n",
       "    <tr>\n",
       "      <th>0</th>\n",
       "      <td>False</td>\n",
       "      <td>False</td>\n",
       "      <td>False</td>\n",
       "      <td>False</td>\n",
       "      <td>False</td>\n",
       "    </tr>\n",
       "    <tr>\n",
       "      <th>1</th>\n",
       "      <td>False</td>\n",
       "      <td>False</td>\n",
       "      <td>False</td>\n",
       "      <td>False</td>\n",
       "      <td>False</td>\n",
       "    </tr>\n",
       "    <tr>\n",
       "      <th>2</th>\n",
       "      <td>False</td>\n",
       "      <td>False</td>\n",
       "      <td>False</td>\n",
       "      <td>False</td>\n",
       "      <td>False</td>\n",
       "    </tr>\n",
       "    <tr>\n",
       "      <th>3</th>\n",
       "      <td>False</td>\n",
       "      <td>False</td>\n",
       "      <td>False</td>\n",
       "      <td>False</td>\n",
       "      <td>False</td>\n",
       "    </tr>\n",
       "    <tr>\n",
       "      <th>4</th>\n",
       "      <td>False</td>\n",
       "      <td>False</td>\n",
       "      <td>False</td>\n",
       "      <td>False</td>\n",
       "      <td>False</td>\n",
       "    </tr>\n",
       "    <tr>\n",
       "      <th>...</th>\n",
       "      <td>...</td>\n",
       "      <td>...</td>\n",
       "      <td>...</td>\n",
       "      <td>...</td>\n",
       "      <td>...</td>\n",
       "    </tr>\n",
       "    <tr>\n",
       "      <th>4715</th>\n",
       "      <td>False</td>\n",
       "      <td>False</td>\n",
       "      <td>False</td>\n",
       "      <td>False</td>\n",
       "      <td>False</td>\n",
       "    </tr>\n",
       "    <tr>\n",
       "      <th>4716</th>\n",
       "      <td>False</td>\n",
       "      <td>False</td>\n",
       "      <td>False</td>\n",
       "      <td>False</td>\n",
       "      <td>False</td>\n",
       "    </tr>\n",
       "    <tr>\n",
       "      <th>4717</th>\n",
       "      <td>False</td>\n",
       "      <td>False</td>\n",
       "      <td>False</td>\n",
       "      <td>False</td>\n",
       "      <td>False</td>\n",
       "    </tr>\n",
       "    <tr>\n",
       "      <th>4718</th>\n",
       "      <td>False</td>\n",
       "      <td>False</td>\n",
       "      <td>False</td>\n",
       "      <td>False</td>\n",
       "      <td>False</td>\n",
       "    </tr>\n",
       "    <tr>\n",
       "      <th>4719</th>\n",
       "      <td>False</td>\n",
       "      <td>False</td>\n",
       "      <td>False</td>\n",
       "      <td>False</td>\n",
       "      <td>False</td>\n",
       "    </tr>\n",
       "  </tbody>\n",
       "</table>\n",
       "<p>4720 rows × 5 columns</p>\n",
       "</div>"
      ],
      "text/plain": [
       "         id  nights_booked  occupancy  rental_income  star_rating\n",
       "0     False          False      False          False        False\n",
       "1     False          False      False          False        False\n",
       "2     False          False      False          False        False\n",
       "3     False          False      False          False        False\n",
       "4     False          False      False          False        False\n",
       "...     ...            ...        ...            ...          ...\n",
       "4715  False          False      False          False        False\n",
       "4716  False          False      False          False        False\n",
       "4717  False          False      False          False        False\n",
       "4718  False          False      False          False        False\n",
       "4719  False          False      False          False        False\n",
       "\n",
       "[4720 rows x 5 columns]"
      ]
     },
     "execution_count": 33,
     "metadata": {},
     "output_type": "execute_result"
    }
   ],
   "source": [
    "dfClean.isnull()"
   ]
  },
  {
   "cell_type": "code",
   "execution_count": 37,
   "id": "22932280-6e55-447f-9c83-d8b1b9d7d82e",
   "metadata": {},
   "outputs": [],
   "source": [
    "dfClean2 = dfClean.dropna()"
   ]
  },
  {
   "cell_type": "code",
   "execution_count": 38,
   "id": "0c8efac1-2cb5-44b0-847f-12c1411fc254",
   "metadata": {},
   "outputs": [
    {
     "data": {
      "text/plain": [
       "id               4718\n",
       "nights_booked    4718\n",
       "occupancy        4718\n",
       "rental_income    4718\n",
       "star_rating      4718\n",
       "dtype: int64"
      ]
     },
     "execution_count": 38,
     "metadata": {},
     "output_type": "execute_result"
    }
   ],
   "source": [
    "dfClean2.count()"
   ]
  },
  {
   "cell_type": "code",
   "execution_count": 39,
   "id": "a14bb564-6677-48b1-bdd2-5ce034e51bad",
   "metadata": {
    "tags": []
   },
   "outputs": [
    {
     "data": {
      "text/html": [
       "<div>\n",
       "<style scoped>\n",
       "    .dataframe tbody tr th:only-of-type {\n",
       "        vertical-align: middle;\n",
       "    }\n",
       "\n",
       "    .dataframe tbody tr th {\n",
       "        vertical-align: top;\n",
       "    }\n",
       "\n",
       "    .dataframe thead th {\n",
       "        text-align: right;\n",
       "    }\n",
       "</style>\n",
       "<table border=\"1\" class=\"dataframe\">\n",
       "  <thead>\n",
       "    <tr style=\"text-align: right;\">\n",
       "      <th></th>\n",
       "      <th>id</th>\n",
       "      <th>nights_booked</th>\n",
       "      <th>occupancy</th>\n",
       "      <th>rental_income</th>\n",
       "      <th>star_rating</th>\n",
       "    </tr>\n",
       "  </thead>\n",
       "  <tbody>\n",
       "    <tr>\n",
       "      <th>count</th>\n",
       "      <td>4.718000e+03</td>\n",
       "      <td>4718.000000</td>\n",
       "      <td>4718.000000</td>\n",
       "      <td>4718.000000</td>\n",
       "      <td>4718.000000</td>\n",
       "    </tr>\n",
       "    <tr>\n",
       "      <th>mean</th>\n",
       "      <td>3.352554e+07</td>\n",
       "      <td>124.356931</td>\n",
       "      <td>47.252014</td>\n",
       "      <td>2009.119118</td>\n",
       "      <td>4.945952</td>\n",
       "    </tr>\n",
       "    <tr>\n",
       "      <th>std</th>\n",
       "      <td>7.511678e+04</td>\n",
       "      <td>95.140766</td>\n",
       "      <td>25.934219</td>\n",
       "      <td>1555.271697</td>\n",
       "      <td>0.242425</td>\n",
       "    </tr>\n",
       "    <tr>\n",
       "      <th>min</th>\n",
       "      <td>3.334208e+07</td>\n",
       "      <td>0.000000</td>\n",
       "      <td>0.000000</td>\n",
       "      <td>0.000000</td>\n",
       "      <td>1.000000</td>\n",
       "    </tr>\n",
       "    <tr>\n",
       "      <th>25%</th>\n",
       "      <td>3.345687e+07</td>\n",
       "      <td>44.000000</td>\n",
       "      <td>26.000000</td>\n",
       "      <td>950.500000</td>\n",
       "      <td>5.000000</td>\n",
       "    </tr>\n",
       "    <tr>\n",
       "      <th>50%</th>\n",
       "      <td>3.357576e+07</td>\n",
       "      <td>101.000000</td>\n",
       "      <td>46.000000</td>\n",
       "      <td>1665.000000</td>\n",
       "      <td>5.000000</td>\n",
       "    </tr>\n",
       "    <tr>\n",
       "      <th>75%</th>\n",
       "      <td>3.357881e+07</td>\n",
       "      <td>191.750000</td>\n",
       "      <td>68.000000</td>\n",
       "      <td>2674.500000</td>\n",
       "      <td>5.000000</td>\n",
       "    </tr>\n",
       "    <tr>\n",
       "      <th>max</th>\n",
       "      <td>3.360290e+07</td>\n",
       "      <td>365.000000</td>\n",
       "      <td>100.000000</td>\n",
       "      <td>14850.000000</td>\n",
       "      <td>5.000000</td>\n",
       "    </tr>\n",
       "  </tbody>\n",
       "</table>\n",
       "</div>"
      ],
      "text/plain": [
       "                 id  nights_booked    occupancy  rental_income  star_rating\n",
       "count  4.718000e+03    4718.000000  4718.000000    4718.000000  4718.000000\n",
       "mean   3.352554e+07     124.356931    47.252014    2009.119118     4.945952\n",
       "std    7.511678e+04      95.140766    25.934219    1555.271697     0.242425\n",
       "min    3.334208e+07       0.000000     0.000000       0.000000     1.000000\n",
       "25%    3.345687e+07      44.000000    26.000000     950.500000     5.000000\n",
       "50%    3.357576e+07     101.000000    46.000000    1665.000000     5.000000\n",
       "75%    3.357881e+07     191.750000    68.000000    2674.500000     5.000000\n",
       "max    3.360290e+07     365.000000   100.000000   14850.000000     5.000000"
      ]
     },
     "execution_count": 39,
     "metadata": {},
     "output_type": "execute_result"
    }
   ],
   "source": [
    "dfClean2.describe()"
   ]
  },
  {
   "cell_type": "code",
   "execution_count": 54,
   "id": "ae23054c-08fb-463e-b926-0b4408cac461",
   "metadata": {},
   "outputs": [
    {
     "data": {
      "image/png": "[encoded data removed]",
      "text/plain": [
       "<Figure size 432x288 with 1 Axes>"
      ]
     },
     "metadata": {
      "needs_background": "light"
     },
     "output_type": "display_data"
    }
   ],
   "source": [
    "plt.scatter(dfClean2.star_rating, dfClean2.rental_income)\n",
    "plt.xlabel('star_rating')\n",
    "plt.ylabel('rental_income')\n",
    "plt.show()"
   ]
  },
  {
   "cell_type": "code",
   "execution_count": 63,
   "id": "97aa4213-9d98-4082-872d-da62eb6c9b66",
   "metadata": {},
   "outputs": [],
   "source": [
    "X = dfClean2.star_rating.values.reshape(-1, 1)"
   ]
  },
  {
   "cell_type": "code",
   "execution_count": 64,
   "id": "318582af-ae35-4640-b13b-10df6ff9ac28",
   "metadata": {
    "tags": []
   },
   "outputs": [
    {
     "data": {
      "text/plain": [
       "array([[5.],\n",
       "       [5.],\n",
       "       [5.],\n",
       "       [5.],\n",
       "       [5.]])"
      ]
     },
     "execution_count": 64,
     "metadata": {},
     "output_type": "execute_result"
    }
   ],
   "source": [
    "X[:5]"
   ]
  },
  {
   "cell_type": "code",
   "execution_count": 65,
   "id": "955e6a5d-07bb-4082-81e8-a6230031664a",
   "metadata": {},
   "outputs": [
    {
     "data": {
      "text/plain": [
       "(4718, 1)"
      ]
     },
     "execution_count": 65,
     "metadata": {},
     "output_type": "execute_result"
    }
   ],
   "source": [
    "X.shape"
   ]
  },
  {
   "cell_type": "code",
   "execution_count": 66,
   "id": "4355a31f-f30b-4d83-85db-62e153b316a0",
   "metadata": {},
   "outputs": [],
   "source": [
    "y = dfClean2.rental_income"
   ]
  },
  {
   "cell_type": "code",
   "execution_count": 67,
   "id": "6b768afd-4163-4073-9546-e337107da805",
   "metadata": {},
   "outputs": [],
   "source": [
    "model = LinearRegression()"
   ]
  },
  {
   "cell_type": "code",
   "execution_count": 68,
   "id": "0421cf29-13bb-4341-b303-641cc8f0a6e8",
   "metadata": {},
   "outputs": [
    {
     "data": {
      "text/plain": [
       "LinearRegression()"
      ]
     },
     "execution_count": 68,
     "metadata": {},
     "output_type": "execute_result"
    }
   ],
   "source": [
    "model.fit(X, y)"
   ]
  },
  {
   "cell_type": "code",
   "execution_count": 69,
   "id": "28c5bd2b-5a21-4948-a306-9e386291ab52",
   "metadata": {},
   "outputs": [
    {
     "name": "stdout",
     "output_type": "stream",
     "text": [
      "(4718,)\n"
     ]
    }
   ],
   "source": [
    "y_pred = model.predict(X)\n",
    "print(y_pred.shape)"
   ]
  },
  {
   "cell_type": "code",
   "execution_count": 70,
   "id": "7f69c060-4f70-4878-889b-9e4a6bd1dfa0",
   "metadata": {},
   "outputs": [
    {
     "data": {
      "image/png": "[encoded data removed]",
      "text/plain": [
       "<Figure size 432x288 with 1 Axes>"
      ]
     },
     "metadata": {
      "needs_background": "light"
     },
     "output_type": "display_data"
    }
   ],
   "source": [
    "plt.scatter(X, y)\n",
    "plt.plot(X, y_pred, color='red')\n",
    "plt.show()"
   ]
  },
  {
   "cell_type": "code",
   "execution_count": null,
   "id": "730b723c-819a-4ff2-aac5-93f31bc391f0",
   "metadata": {},
   "outputs": [],
   "source": []
  }
 ],
 "metadata": {
  "kernelspec": {
   "display_name": "mlenv",
   "language": "python",
   "name": "mlenv"
  },
  "language_info": {
   "codemirror_mode": {
    "name": "ipython",
    "version": 3
   },
   "file_extension": ".py",
   "mimetype": "text/x-python",
   "name": "python",
   "nbconvert_exporter": "python",
   "pygments_lexer": "ipython3",
   "version": "3.7.13"
  }
 },
 "nbformat": 4,
 "nbformat_minor": 5
}
